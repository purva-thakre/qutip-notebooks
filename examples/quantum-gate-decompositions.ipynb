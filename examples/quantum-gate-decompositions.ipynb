{
 "cells": [
  {
   "cell_type": "markdown",
   "id": "139a9936",
   "metadata": {},
   "source": [
    "# QuTiP example: Quantum Gate Decompositions\n",
    "\n",
    "## Introduction\n",
    "\n",
    "### Single Qubit Decomposition Examples"
   ]
  }
 ],
 "metadata": {
  "kernelspec": {
   "display_name": "Python 3",
   "language": "python",
   "name": "python3"
  }
 },
 "nbformat": 4,
 "nbformat_minor": 5
}
