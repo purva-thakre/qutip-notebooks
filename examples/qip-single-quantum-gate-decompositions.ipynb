{
 "cells": [
  {
   "cell_type": "markdown",
   "id": "139a9936",
   "metadata": {},
   "source": [
    "# QuTiP example: Single Quantum Gate Decompositions\n",
    "\n",
    "\n",
    "## Introduction\n",
    "\n",
    "If we need to build a circuit with a $n \\times n$ quantum gate, there's no way to build a quantum circuit with just the array as an input without decomposing the  $n \\times n$ array into known gates. Such a decomposition is equivalent to the $n \\times n$ quantum gate within some global phase factor.\n",
    "\n",
    "There's more than one way to decompose a $n \\times n$ array which leads to a need for optimizing the decompositions by decreasing the total number of gates, keeping the number of expensive gates upto some lower bound etc. \n",
    "\n",
    "\n",
    "If there's a quantum gate $U$ acting on 1 qubit then it is a $2 \\times 2 $ unitary of the following form :\n",
    "\n",
    "\\begin{equation}\n",
    "U =\n",
    "\\begin{bmatrix}\n",
    "    a       & b \\\\\n",
    "    -b^*       & a^*  \\\\\n",
    "\\end{bmatrix}\n",
    "\\end{equation}\n",
    "\n",
    "Such a unitary can be decomposed into a description of rotation matrices or rotation matrices and Pauli matrices. \n",
    "\n",
    "### Product of Rotation Matrices\n",
    "\n",
    "In order to decompose above $U$ into a description of rotation matrices, we try to describe $U$ as\n",
    "\n",
    "\\begin{equation}\n",
    "U =  \\textrm{R}_i(\\alpha)  \\textrm{R}_j(\\theta)  \\textrm{R}_i(\\beta) , \\text{ }\\forall \\text{ }i, j \\in \\{ \\textrm{X}, \\textrm{Y}, \\textrm{X}\\} \\text{ and } i \\neq j\n",
    "\\end{equation}\n",
    "\n",
    "$U$ can be decomposed as either of following :\n",
    "\n",
    "\\begin{equation}\n",
    "U = \\textrm{R}_Z(\\alpha)  \\textrm{R}_Y(\\theta)  \\textrm{R}_Z(\\beta)\n",
    "\\end{equation}\n",
    "\n",
    "\\begin{equation}\n",
    "U = \\textrm{R}_Z(\\alpha)  \\textrm{R}_X(\\theta)  \\textrm{R}_Z(\\beta)\n",
    "\\end{equation}\n",
    "\n",
    "\\begin{equation}\n",
    "U = \\textrm{R}_Y(\\alpha)  \\textrm{R}_X(\\theta)  \\textrm{R}_Y(\\beta)\n",
    "\\end{equation}\n",
    "\n",
    "\\begin{equation}\n",
    "U = \\textrm{R}_Y(\\alpha)  \\textrm{R}_Z(\\theta)  \\textrm{R}_Y(\\beta)\n",
    "\\end{equation}\n",
    "\n",
    "\\begin{equation}\n",
    "U = \\textrm{R}_X(\\alpha)  \\textrm{R}_Y(\\theta)  \\textrm{R}_X(\\beta)\n",
    "\\end{equation}\n",
    "\n",
    "\\begin{equation}\n",
    "U = \\textrm{R}_X(\\alpha)  \\textrm{R}_Z(\\theta)  \\textrm{R}_X(\\beta)\n",
    "\\end{equation}\n"
   ]
  },
  {
   "cell_type": "code",
   "execution_count": 1,
   "id": "18ef0850",
   "metadata": {},
   "outputs": [],
   "source": [
    "%matplotlib inline\n",
    "from IPython.display import Image\n",
    "import cmath\n",
    "from numpy import pi\n",
    "import numpy as np\n",
    "from qutip import *\n",
    "from qutip_qip.operations import *\n",
    "from qutip_qip.circuit import QubitCircuit, Gate\n",
    "from qutip_qip.decompositions.single_decompositions import (product_of_rotation_matrices, ABC_decomposition)\n",
    "from qutip_qip.decompositions.decompositions_extras import (decomposed_gates_to_circuit, matrix_of_decomposed_gates)"
   ]
  },
  {
   "cell_type": "markdown",
   "id": "a5283199",
   "metadata": {},
   "source": [
    "#### Hadamard ($\\textrm{H}$) \n",
    "\n",
    "\\begin{equation}\n",
    "\\textrm{H} =\n",
    "\\begin{bmatrix}\n",
    "    \\frac{1}{\\sqrt{2}}      & \\frac{1}{\\sqrt{2}} \\\\\n",
    "    \\frac{1}{\\sqrt{2}}       & \\frac{-1}{\\sqrt{2}}  \\\\\n",
    "\\end{bmatrix}\n",
    "\\end{equation}"
   ]
  },
  {
   "cell_type": "code",
   "execution_count": 2,
   "id": "fe077cd1",
   "metadata": {},
   "outputs": [],
   "source": [
    "num_of_qubits = 1\n",
    "H = Qobj([[1/np.sqrt(2),1/np.sqrt(2)],[1/np.sqrt(2),-1/np.sqrt(2)]])"
   ]
  },
  {
   "cell_type": "markdown",
   "id": "d6a6956e",
   "metadata": {},
   "source": [
    "\n",
    "We want to decompose $\\textrm{H}$ as following product :\n",
    "\n",
    "\\begin{equation}\n",
    "\\textrm{H} = \\textrm{R}_i(\\alpha)  \\textrm{R}_j(\\theta)  \\textrm{R}_k(\\beta)\n",
    "\\end{equation}\n",
    "\n",
    "<span style=\"color:red\">**Note :**</span> Change input method in `product_of_rotation_matrices(..., method)` if you prefer to decompose the gate as a different combination of gates. \n",
    "\n",
    "Available methods : 'ZYZ', 'ZXZ','YXY', 'YZY', 'XYX', 'XZX'"
   ]
  },
  {
   "cell_type": "code",
   "execution_count": 3,
   "id": "18e27e8f",
   "metadata": {
    "scrolled": false
   },
   "outputs": [
    {
     "data": {
      "image/png": "[encoded data removed]",
      "text/plain": [
       "<IPython.core.display.Image object>"
      ]
     },
     "execution_count": 3,
     "metadata": {},
     "output_type": "execute_result"
    }
   ],
   "source": [
    "H_zyz_gates=product_of_rotation_matrices(H,1,'ZYZ')\n",
    "H_zyz_quantum_circuit = decomposed_gates_to_circuit(H_zyz_gates, num_of_qubits)\n",
    "H_zyz_quantum_circuit.png"
   ]
  },
  {
   "cell_type": "markdown",
   "id": "566489bf",
   "metadata": {},
   "source": [
    "**Note**: The input $\\textrm{H}$ was multiplied by a global phase factor of $\\frac{\\pi}{2}$. We undo this action by multiplying the resultant gate combination by inverse of the same global phase factor.\n",
    "\n",
    "Now, we check if the output of above matches to that of the input gate. "
   ]
  },
  {
   "cell_type": "code",
   "execution_count": 4,
   "id": "dba6ab4d",
   "metadata": {
    "scrolled": true
   },
   "outputs": [
    {
     "data": {
      "text/latex": [
       "Quantum object: dims = [[2], [2]], shape = (2, 2), type = oper, isherm = True\\begin{equation*}\\left(\\begin{array}{*{11}c}0.707 & 0.707\\\\0.707 & -0.707\\\\\\end{array}\\right)\\end{equation*}"
      ],
      "text/plain": [
       "Quantum object: dims = [[2], [2]], shape = (2, 2), type = oper, isherm = True\n",
       "Qobj data =\n",
       "[[ 0.70710678  0.70710678]\n",
       " [ 0.70710678 -0.70710678]]"
      ]
     },
     "execution_count": 4,
     "metadata": {},
     "output_type": "execute_result"
    }
   ],
   "source": [
    "# Check the output\n",
    "H_zyz_output = matrix_of_decomposed_gates(H_zyz_quantum_circuit)\n",
    "H_zyz_output"
   ]
  },
  {
   "cell_type": "markdown",
   "id": "75aceb50",
   "metadata": {},
   "source": [
    "#### Pauli X ($ \\sigma_x$)"
   ]
  },
  {
   "cell_type": "markdown",
   "id": "7f8b29e6",
   "metadata": {},
   "source": [
    "\\begin{equation}\n",
    "\\sigma_x =\n",
    "\\begin{bmatrix}\n",
    "    0      & 1 \\\\\n",
    "    1       & 0  \\\\\n",
    "\\end{bmatrix}\n",
    "\\end{equation}\n",
    "\n",
    "We want to decompose $\\sigma_x$ as following product :\n",
    "\n",
    "\\begin{equation}\n",
    "\\sigma_x = \\textrm{R}_i(\\alpha)  \\textrm{R}_j(\\theta)  \\textrm{R}_k(\\beta)\n",
    "\\end{equation}\n",
    "\n",
    "<span style=\"color:red\">**Note :**</span> Change input method in `product_of_rotation_matrices(..., method)` if you prefer to decompose the gate as a different combination of gates. \n",
    "\n",
    "Available methods : 'ZYZ', 'ZXZ','YXY', 'YZY', 'XYX', 'XZX'"
   ]
  },
  {
   "cell_type": "code",
   "execution_count": 5,
   "id": "69673825",
   "metadata": {},
   "outputs": [
    {
     "data": {
      "image/png": "[encoded data removed]",
      "text/plain": [
       "<IPython.core.display.Image object>"
      ]
     },
     "execution_count": 5,
     "metadata": {},
     "output_type": "execute_result"
    }
   ],
   "source": [
    "sigmax = Qobj([[0,1],[1,0]])\n",
    "sigmax_zyz_gates=product_of_rotation_matrices(sigmax,1,'ZYZ')\n",
    "sigmax_zyz_quantum_circuit = decomposed_gates_to_circuit(sigmax_zyz_gates, num_of_qubits)\n",
    "sigmax_zyz_quantum_circuit.png"
   ]
  },
  {
   "cell_type": "code",
   "execution_count": 6,
   "id": "f42216f3",
   "metadata": {},
   "outputs": [
    {
     "data": {
      "text/latex": [
       "Quantum object: dims = [[2], [2]], shape = (2, 2), type = oper, isherm = True\\begin{equation*}\\left(\\begin{array}{*{11}c}0.0 & 1.0\\\\1.0 & 0.0\\\\\\end{array}\\right)\\end{equation*}"
      ],
      "text/plain": [
       "Quantum object: dims = [[2], [2]], shape = (2, 2), type = oper, isherm = True\n",
       "Qobj data =\n",
       "[[0. 1.]\n",
       " [1. 0.]]"
      ]
     },
     "execution_count": 6,
     "metadata": {},
     "output_type": "execute_result"
    }
   ],
   "source": [
    "# Check the output\n",
    "sigmax_zyz_output = matrix_of_decomposed_gates(sigmax_zyz_quantum_circuit)\n",
    "sigmax_zyz_output"
   ]
  },
  {
   "cell_type": "markdown",
   "id": "1bf50fa7",
   "metadata": {},
   "source": [
    "#### Pauli Y ($ \\sigma_y$)\n",
    "\n",
    "\\begin{equation}\n",
    "\\sigma_y =\n",
    "\\begin{bmatrix}\n",
    "    0      & -i \\\\\n",
    "    i       & 0  \\\\\n",
    "\\end{bmatrix}\n",
    "\\end{equation}\n",
    "\n",
    "We want to decompose $\\sigma_y$ as following product :\n",
    "\n",
    "\\begin{equation}\n",
    "\\sigma_y = \\textrm{R}_i(\\alpha)  \\textrm{R}_j(\\theta)  \\textrm{R}_k(\\beta)\n",
    "\\end{equation}\n",
    "\n",
    "<span style=\"color:red\">**Note :**</span> Change input method in `product_of_rotation_matrices(..., method)` if you prefer to decompose the gate as a different combination of gates. \n",
    "\n",
    "Available methods : 'ZYZ', 'ZXZ','YXY', 'YZY', 'XYX', 'XZX'"
   ]
  },
  {
   "cell_type": "code",
   "execution_count": 7,
   "id": "2caa1775",
   "metadata": {},
   "outputs": [
    {
     "data": {
      "image/png": "[encoded data removed]",
      "text/plain": [
       "<IPython.core.display.Image object>"
      ]
     },
     "execution_count": 7,
     "metadata": {},
     "output_type": "execute_result"
    }
   ],
   "source": [
    "sigmay = Qobj([[0,-1j],[1j,0]])\n",
    "sigmay_zyz_gates=product_of_rotation_matrices(sigmay,1,'ZYZ')\n",
    "sigmay_zyz_quantum_circuit = decomposed_gates_to_circuit(sigmay_zyz_gates, num_of_qubits)\n",
    "sigmay_zyz_quantum_circuit.png"
   ]
  },
  {
   "cell_type": "code",
   "execution_count": 8,
   "id": "a8aaa4ab",
   "metadata": {},
   "outputs": [
    {
     "data": {
      "text/latex": [
       "Quantum object: dims = [[2], [2]], shape = (2, 2), type = oper, isherm = True\\begin{equation*}\\left(\\begin{array}{*{11}c}0.0 & 1.0j\\\\-1.0j & 0.0\\\\\\end{array}\\right)\\end{equation*}"
      ],
      "text/plain": [
       "Quantum object: dims = [[2], [2]], shape = (2, 2), type = oper, isherm = True\n",
       "Qobj data =\n",
       "[[0.+0.j 0.+1.j]\n",
       " [0.-1.j 0.+0.j]]"
      ]
     },
     "execution_count": 8,
     "metadata": {},
     "output_type": "execute_result"
    }
   ],
   "source": [
    "# Check the output\n",
    "sigmay_zyz_output = matrix_of_decomposed_gates(sigmay_zyz_quantum_circuit)\n",
    "sigmay_zyz_output"
   ]
  },
  {
   "cell_type": "markdown",
   "id": "d7ca1fe3",
   "metadata": {},
   "source": [
    "#### Pauli Z ($ \\sigma_z$)\n",
    "\n",
    "\\begin{equation}\n",
    "\\sigma_z =\n",
    "\\begin{bmatrix}\n",
    "    1      & 0 \\\\\n",
    "    0       & -1  \\\\\n",
    "\\end{bmatrix}\n",
    "\\end{equation}\n",
    "\n",
    "We want to decompose $\\sigma_z$ as following product :\n",
    "\n",
    "\\begin{equation}\n",
    "\\sigma_z = \\textrm{R}_i(\\alpha)  \\textrm{R}_j(\\theta)  \\textrm{R}_k(\\beta)\n",
    "\\end{equation}\n",
    "\n",
    "<span style=\"color:red\">**Note :**</span> Change input method in `product_of_rotation_matrices(..., method)` if you prefer to decompose the gate as a different combination of gates. \n",
    "\n",
    "Available methods : 'ZYZ', 'ZXZ','YXY', 'YZY', 'XYX', 'XZX'\n"
   ]
  },
  {
   "cell_type": "code",
   "execution_count": 9,
   "id": "18bfbc15",
   "metadata": {},
   "outputs": [
    {
     "data": {
      "image/png": "[encoded data removed]",
      "text/plain": [
       "<IPython.core.display.Image object>"
      ]
     },
     "execution_count": 9,
     "metadata": {},
     "output_type": "execute_result"
    }
   ],
   "source": [
    "sigmaz = Qobj([[1,0],[0,-1]])\n",
    "sigmaz_zyz_gates=product_of_rotation_matrices(sigmaz,1,'ZYZ')\n",
    "sigmaz_zyz_quantum_circuit = decomposed_gates_to_circuit(sigmaz_zyz_gates, num_of_qubits)\n",
    "sigmaz_zyz_quantum_circuit.png"
   ]
  },
  {
   "cell_type": "code",
   "execution_count": 10,
   "id": "c1c6616c",
   "metadata": {},
   "outputs": [
    {
     "data": {
      "text/latex": [
       "Quantum object: dims = [[2], [2]], shape = (2, 2), type = oper, isherm = True\\begin{equation*}\\left(\\begin{array}{*{11}c}1.0 & 0.0\\\\0.0 & -1.0\\\\\\end{array}\\right)\\end{equation*}"
      ],
      "text/plain": [
       "Quantum object: dims = [[2], [2]], shape = (2, 2), type = oper, isherm = True\n",
       "Qobj data =\n",
       "[[ 1.  0.]\n",
       " [ 0. -1.]]"
      ]
     },
     "execution_count": 10,
     "metadata": {},
     "output_type": "execute_result"
    }
   ],
   "source": [
    "# Check the output\n",
    "sigmaz_zyz_output = matrix_of_decomposed_gates(sigmaz_zyz_quantum_circuit)\n",
    "sigmaz_zyz_output"
   ]
  },
  {
   "cell_type": "markdown",
   "id": "4e7c7d13",
   "metadata": {},
   "source": [
    "#### Single-Qubit Rotation ($\\textrm{S}$)\n",
    "\n",
    "\\begin{equation}\n",
    "\\textrm{S} =\n",
    "\\begin{bmatrix}\n",
    "    1      & 0 \\\\\n",
    "    0       & i  \\\\\n",
    "\\end{bmatrix}\n",
    "\\end{equation}\n",
    "\n",
    "We want to decompose $\\textrm{S}$ as following product :\n",
    "\n",
    "\\begin{equation}\n",
    "\\textrm{S} = \\textrm{R}_i(\\alpha)  \\textrm{R}_j(\\theta)  \\textrm{R}_k(\\beta)\n",
    "\\end{equation}\n",
    "\n",
    "<span style=\"color:red\">**Note :**</span> Change input method in `product_of_rotation_matrices(..., method)` if you prefer to decompose the gate as a different combination of gates. \n",
    "\n",
    "Available methods : 'ZYZ', 'ZXZ','YXY', 'YZY', 'XYX', 'XZX'"
   ]
  },
  {
   "cell_type": "code",
   "execution_count": 11,
   "id": "9adfbb49",
   "metadata": {},
   "outputs": [
    {
     "data": {
      "image/png": "[encoded data removed]",
      "text/plain": [
       "<IPython.core.display.Image object>"
      ]
     },
     "execution_count": 11,
     "metadata": {},
     "output_type": "execute_result"
    }
   ],
   "source": [
    "S = Qobj([[1,0],[0,1j]])\n",
    "S_zyz_gates=product_of_rotation_matrices(S,1,'ZYZ')\n",
    "S_zyz_quantum_circuit = decomposed_gates_to_circuit(S_zyz_gates, num_of_qubits)\n",
    "S_zyz_quantum_circuit.png"
   ]
  },
  {
   "cell_type": "code",
   "execution_count": 12,
   "id": "617b110d",
   "metadata": {},
   "outputs": [
    {
     "data": {
      "text/latex": [
       "Quantum object: dims = [[2], [2]], shape = (2, 2), type = oper, isherm = False\\begin{equation*}\\left(\\begin{array}{*{11}c}1.0j & 0.0\\\\0.0 & 1.0\\\\\\end{array}\\right)\\end{equation*}"
      ],
      "text/plain": [
       "Quantum object: dims = [[2], [2]], shape = (2, 2), type = oper, isherm = False\n",
       "Qobj data =\n",
       "[[0.+1.j 0.+0.j]\n",
       " [0.+0.j 1.+0.j]]"
      ]
     },
     "execution_count": 12,
     "metadata": {},
     "output_type": "execute_result"
    }
   ],
   "source": [
    "# Check the output\n",
    "S_zyz_output = matrix_of_decomposed_gates(S_zyz_quantum_circuit)\n",
    "S_zyz_output"
   ]
  },
  {
   "cell_type": "markdown",
   "id": "5d120722",
   "metadata": {},
   "source": [
    "#### Square Root of S $\\left( \\textrm{T} \\right)$\n",
    "\n",
    "\\begin{equation}\n",
    "\\textrm{S} =\n",
    "\\begin{bmatrix}\n",
    "    1      & 0 \\\\\n",
    "    0       & e^{\\frac{i \\pi}{4}}  \\\\\n",
    "\\end{bmatrix}\n",
    "\\end{equation}\n",
    "\n",
    "We want to decompose $\\textrm{T}$ as following product :\n",
    "\n",
    "\\begin{equation}\n",
    "\\textrm{T} = \\textrm{R}_i(\\alpha)  \\textrm{R}_j(\\theta)  \\textrm{R}_k(\\beta)\n",
    "\\end{equation}\n",
    "\n",
    "<span style=\"color:red\">**Note :**</span> Change input method in `product_of_rotation_matrices(..., method)` if you prefer to decompose the gate as a different combination of gates. \n",
    "\n",
    "Available methods : 'ZYZ', 'ZXZ','YXY', 'YZY', 'XYX', 'XZX'\n"
   ]
  },
  {
   "cell_type": "code",
   "execution_count": 13,
   "id": "1d639597",
   "metadata": {},
   "outputs": [
    {
     "data": {
      "image/png": "[encoded data removed]",
      "text/plain": [
       "<IPython.core.display.Image object>"
      ]
     },
     "execution_count": 13,
     "metadata": {},
     "output_type": "execute_result"
    }
   ],
   "source": [
    "T = Qobj([[1,0],[0,cmath.rect(1, np.pi/4)]])\n",
    "T_zyz_gates=product_of_rotation_matrices(T,1,'ZYZ')\n",
    "T_zyz_quantum_circuit = decomposed_gates_to_circuit(T_zyz_gates, num_of_qubits)\n",
    "T_zyz_quantum_circuit.png"
   ]
  },
  {
   "cell_type": "code",
   "execution_count": 14,
   "id": "cc0c6510",
   "metadata": {},
   "outputs": [
    {
     "data": {
      "text/latex": [
       "Quantum object: dims = [[2], [2]], shape = (2, 2), type = oper, isherm = False\\begin{equation*}\\left(\\begin{array}{*{11}c}(-0.707+0.707j) & 0.0\\\\0.0 & -1.000j\\\\\\end{array}\\right)\\end{equation*}"
      ],
      "text/plain": [
       "Quantum object: dims = [[2], [2]], shape = (2, 2), type = oper, isherm = False\n",
       "Qobj data =\n",
       "[[-0.70710678+0.70710678j  0.        +0.j        ]\n",
       " [ 0.        +0.j          0.        -1.j        ]]"
      ]
     },
     "execution_count": 14,
     "metadata": {},
     "output_type": "execute_result"
    }
   ],
   "source": [
    "# Check the output\n",
    "T_zyz_output = matrix_of_decomposed_gates(T_zyz_quantum_circuit)\n",
    "T_zyz_output"
   ]
  },
  {
   "cell_type": "markdown",
   "id": "7ad61f13",
   "metadata": {},
   "source": [
    "#### Square Root of NOT gate $\\left( \\textrm{SQRTNOT} \\right)$\n",
    "\n",
    "\\begin{equation}\n",
    "\\textrm{SQRTNOT} =\n",
    "\\begin{bmatrix}\n",
    "    \\frac{1}{\\sqrt{2}}      & \\frac{-i}{\\sqrt{2}} \\\\\n",
    "    \\frac{-i}{\\sqrt{2}}       & \\frac{1}{\\sqrt{2}}  \\\\\n",
    "\\end{bmatrix}\n",
    "\\end{equation}\n",
    "\n",
    "We want to decompose $\\textrm{SQRTNOT}$ as following product :\n",
    "\n",
    "\n",
    "\\begin{equation}\n",
    "\\textrm{SQRTNOT} = \\textrm{R}_i(\\alpha)  \\textrm{R}_j(\\theta)  \\textrm{R}_k(\\beta)\n",
    "\\end{equation}\n",
    "\n",
    "<span style=\"color:red\">**Note :**</span> Change input method in `product_of_rotation_matrices(..., method)` if you prefer to decompose the gate as a different combination of gates. \n",
    "\n",
    "Available methods : 'ZYZ', 'ZXZ','YXY', 'YZY', 'XYX', 'XZX'"
   ]
  },
  {
   "cell_type": "code",
   "execution_count": 15,
   "id": "07067d98",
   "metadata": {},
   "outputs": [
    {
     "data": {
      "image/png": "[encoded data removed]",
      "text/plain": [
       "<IPython.core.display.Image object>"
      ]
     },
     "execution_count": 15,
     "metadata": {},
     "output_type": "execute_result"
    }
   ],
   "source": [
    "SQRTNOT = Qobj([[1/np.sqrt(2),-1j/np.sqrt(2)],[-1j/np.sqrt(2),1/np.sqrt(2)]])\n",
    "SQRTNOT_zyz_gates=product_of_rotation_matrices(SQRTNOT,1,'ZYZ')\n",
    "SQRTNOT_zyz_quantum_circuit = decomposed_gates_to_circuit(SQRTNOT_zyz_gates, num_of_qubits)\n",
    "SQRTNOT_zyz_quantum_circuit.png"
   ]
  },
  {
   "cell_type": "code",
   "execution_count": 16,
   "id": "0838bdac",
   "metadata": {},
   "outputs": [
    {
     "data": {
      "text/latex": [
       "Quantum object: dims = [[2], [2]], shape = (2, 2), type = oper, isherm = False\\begin{equation*}\\left(\\begin{array}{*{11}c}-0.707 & 0.707j\\\\0.707j & -0.707\\\\\\end{array}\\right)\\end{equation*}"
      ],
      "text/plain": [
       "Quantum object: dims = [[2], [2]], shape = (2, 2), type = oper, isherm = False\n",
       "Qobj data =\n",
       "[[-0.70710678+0.j          0.        +0.70710678j]\n",
       " [ 0.        +0.70710678j -0.70710678+0.j        ]]"
      ]
     },
     "execution_count": 16,
     "metadata": {},
     "output_type": "execute_result"
    }
   ],
   "source": [
    "# Check the output\n",
    "SQRTNOT_zyz_output = matrix_of_decomposed_gates(SQRTNOT_zyz_quantum_circuit)\n",
    "SQRTNOT_zyz_output"
   ]
  },
  {
   "cell_type": "markdown",
   "id": "27acc751",
   "metadata": {},
   "source": [
    "### ABC Decomposition\n",
    "\n",
    "In order to decompose above $U$ into a description of rotation matrices, we try to describe $U$ as\n",
    "\n",
    "\\begin{equation}\n",
    "U = \\textrm{AXBXC}\n",
    "\\end{equation}\n",
    "\n",
    "Here, $ \\textrm{A} = \\textrm{R}_z(\\alpha)  \\textrm{R}_y \\left( \\frac{\\theta}{2} \\right)$, $\\textrm{X} = \\sigma_x$, \n",
    " $ \\textrm{B} = \\textrm{R}_y \\left( \\frac{-\\theta}{2} \\right)  \\textrm{R}_z \\left( \\frac{-(\\alpha+\\beta)}{2} \\right)$, and $\\textrm{C} = \\textrm{R}_z \\left( \\frac{(-\\alpha+\\beta)}{2}\\right)$\n",
    " \n",
    "#### Hadamard ($\\textrm{H}$) \n",
    "\n",
    "\\begin{equation}\n",
    "\\textrm{H} =\n",
    "\\begin{bmatrix}\n",
    "    \\frac{1}{\\sqrt{2}}      & \\frac{1}{\\sqrt{2}} \\\\\n",
    "    \\frac{1}{\\sqrt{2}}       & \\frac{-1}{\\sqrt{2}}  \\\\\n",
    "\\end{bmatrix}\n",
    "\\end{equation}"
   ]
  },
  {
   "cell_type": "code",
   "execution_count": 17,
   "id": "1bfc60c7",
   "metadata": {},
   "outputs": [
    {
     "data": {
      "image/png": "[encoded data removed]",
      "text/plain": [
       "<IPython.core.display.Image object>"
      ]
     },
     "execution_count": 17,
     "metadata": {},
     "output_type": "execute_result"
    }
   ],
   "source": [
    "H_ABC_gates=ABC_decomposition(H,1)\n",
    "H_ABC_quantum_circuit = decomposed_gates_to_circuit(H_ABC_gates, num_of_qubits)\n",
    "H_ABC_quantum_circuit.png"
   ]
  },
  {
   "cell_type": "code",
   "execution_count": 18,
   "id": "05f73642",
   "metadata": {},
   "outputs": [
    {
     "data": {
      "text/latex": [
       "Quantum object: dims = [[2], [2]], shape = (2, 2), type = oper, isherm = True\\begin{equation*}\\left(\\begin{array}{*{11}c}0.707 & 0.707\\\\0.707 & -0.707\\\\\\end{array}\\right)\\end{equation*}"
      ],
      "text/plain": [
       "Quantum object: dims = [[2], [2]], shape = (2, 2), type = oper, isherm = True\n",
       "Qobj data =\n",
       "[[ 0.70710678  0.70710678]\n",
       " [ 0.70710678 -0.70710678]]"
      ]
     },
     "execution_count": 18,
     "metadata": {},
     "output_type": "execute_result"
    }
   ],
   "source": [
    "# Check the output\n",
    "H_ABC_output = matrix_of_decomposed_gates(H_ABC_quantum_circuit)\n",
    "H_ABC_output"
   ]
  },
  {
   "cell_type": "markdown",
   "id": "fdcc86e7",
   "metadata": {},
   "source": [
    "#### Pauli X ($ \\sigma_x$)\n",
    "\n",
    "\\begin{equation}\n",
    "\\sigma_x =\n",
    "\\begin{bmatrix}\n",
    "    0      & 1 \\\\\n",
    "    1       & 0  \\\\\n",
    "\\end{bmatrix}\n",
    "\\end{equation}\n"
   ]
  },
  {
   "cell_type": "code",
   "execution_count": 19,
   "id": "0360bf91",
   "metadata": {},
   "outputs": [
    {
     "data": {
      "image/png": "[encoded data removed]",
      "text/plain": [
       "<IPython.core.display.Image object>"
      ]
     },
     "execution_count": 19,
     "metadata": {},
     "output_type": "execute_result"
    }
   ],
   "source": [
    "sigmax_ABC_gates=ABC_decomposition(sigmax,1)\n",
    "sigmax_ABC_quantum_circuit = decomposed_gates_to_circuit(sigmax_ABC_gates, num_of_qubits)\n",
    "sigmax_ABC_quantum_circuit.png"
   ]
  },
  {
   "cell_type": "code",
   "execution_count": 20,
   "id": "b8859e94",
   "metadata": {},
   "outputs": [
    {
     "data": {
      "text/latex": [
       "Quantum object: dims = [[2], [2]], shape = (2, 2), type = oper, isherm = True\\begin{equation*}\\left(\\begin{array}{*{11}c}0.0 & 1.0\\\\1.0 & 0.0\\\\\\end{array}\\right)\\end{equation*}"
      ],
      "text/plain": [
       "Quantum object: dims = [[2], [2]], shape = (2, 2), type = oper, isherm = True\n",
       "Qobj data =\n",
       "[[0. 1.]\n",
       " [1. 0.]]"
      ]
     },
     "execution_count": 20,
     "metadata": {},
     "output_type": "execute_result"
    }
   ],
   "source": [
    "# Check the output\n",
    "sigmax_ABC_output = matrix_of_decomposed_gates(sigmax_ABC_quantum_circuit)\n",
    "sigmax_ABC_output"
   ]
  },
  {
   "cell_type": "markdown",
   "id": "1ed0440b",
   "metadata": {},
   "source": [
    "#### Pauli Y ($ \\sigma_y$)\n",
    "\n",
    "\\begin{equation}\n",
    "\\sigma_x =\n",
    "\\begin{bmatrix}\n",
    "    0      & -i \\\\\n",
    "    i       & 0  \\\\\n",
    "\\end{bmatrix}\n",
    "\\end{equation}\n"
   ]
  },
  {
   "cell_type": "code",
   "execution_count": 21,
   "id": "bb52f9ef",
   "metadata": {},
   "outputs": [
    {
     "data": {
      "image/png": "[encoded data removed]",
      "text/plain": [
       "<IPython.core.display.Image object>"
      ]
     },
     "execution_count": 21,
     "metadata": {},
     "output_type": "execute_result"
    }
   ],
   "source": [
    "sigmay_ABC_gates=ABC_decomposition(sigmay,1)\n",
    "sigmay_ABC_quantum_circuit = decomposed_gates_to_circuit(sigmay_ABC_gates, num_of_qubits)\n",
    "sigmay_ABC_quantum_circuit.png"
   ]
  },
  {
   "cell_type": "code",
   "execution_count": 22,
   "id": "62a3ed40",
   "metadata": {},
   "outputs": [
    {
     "data": {
      "text/latex": [
       "Quantum object: dims = [[2], [2]], shape = (2, 2), type = oper, isherm = True\\begin{equation*}\\left(\\begin{array}{*{11}c}0.0 & 1.0j\\\\-1.0j & 0.0\\\\\\end{array}\\right)\\end{equation*}"
      ],
      "text/plain": [
       "Quantum object: dims = [[2], [2]], shape = (2, 2), type = oper, isherm = True\n",
       "Qobj data =\n",
       "[[0.+0.j 0.+1.j]\n",
       " [0.-1.j 0.+0.j]]"
      ]
     },
     "execution_count": 22,
     "metadata": {},
     "output_type": "execute_result"
    }
   ],
   "source": [
    "# Check the output\n",
    "sigmay_ABC_output = matrix_of_decomposed_gates(sigmay_ABC_quantum_circuit)\n",
    "sigmay_ABC_output"
   ]
  },
  {
   "cell_type": "markdown",
   "id": "38c32ffb",
   "metadata": {},
   "source": [
    "#### Pauli Z ($ \\sigma_z$)\n",
    "\n",
    "\\begin{equation}\n",
    "\\sigma_x =\n",
    "\\begin{bmatrix}\n",
    "    1      & 0 \\\\\n",
    "    0       & -1  \\\\\n",
    "\\end{bmatrix}\n",
    "\\end{equation}\n"
   ]
  },
  {
   "cell_type": "code",
   "execution_count": 23,
   "id": "39e82e42",
   "metadata": {},
   "outputs": [
    {
     "data": {
      "image/png": "[encoded data removed]",
      "text/plain": [
       "<IPython.core.display.Image object>"
      ]
     },
     "execution_count": 23,
     "metadata": {},
     "output_type": "execute_result"
    }
   ],
   "source": [
    "sigmaz_ABC_gates=ABC_decomposition(sigmaz,1)\n",
    "sigmaz_ABC_quantum_circuit = decomposed_gates_to_circuit(sigmaz_ABC_gates, num_of_qubits)\n",
    "sigmaz_ABC_quantum_circuit.png"
   ]
  },
  {
   "cell_type": "code",
   "execution_count": 24,
   "id": "56a5c0ab",
   "metadata": {},
   "outputs": [
    {
     "data": {
      "text/latex": [
       "Quantum object: dims = [[2], [2]], shape = (2, 2), type = oper, isherm = True\\begin{equation*}\\left(\\begin{array}{*{11}c}1.0 & 0.0\\\\0.0 & -1.0\\\\\\end{array}\\right)\\end{equation*}"
      ],
      "text/plain": [
       "Quantum object: dims = [[2], [2]], shape = (2, 2), type = oper, isherm = True\n",
       "Qobj data =\n",
       "[[ 1.  0.]\n",
       " [ 0. -1.]]"
      ]
     },
     "execution_count": 24,
     "metadata": {},
     "output_type": "execute_result"
    }
   ],
   "source": [
    "# Check the output\n",
    "sigmaz_ABC_output = matrix_of_decomposed_gates(sigmaz_ABC_quantum_circuit)\n",
    "sigmaz_ABC_output"
   ]
  },
  {
   "cell_type": "markdown",
   "id": "d6ffee5e",
   "metadata": {},
   "source": [
    "#### Single-Qubit Rotation ($\\textrm{S}$)\n",
    "\n",
    "\\begin{equation}\n",
    "\\textrm{S} =\n",
    "\\begin{bmatrix}\n",
    "    1      & 0 \\\\\n",
    "    0       & i  \\\\\n",
    "\\end{bmatrix}\n",
    "\\end{equation}"
   ]
  },
  {
   "cell_type": "code",
   "execution_count": 25,
   "id": "da4fb6dc",
   "metadata": {},
   "outputs": [
    {
     "data": {
      "image/png": "[encoded data removed]",
      "text/plain": [
       "<IPython.core.display.Image object>"
      ]
     },
     "execution_count": 25,
     "metadata": {},
     "output_type": "execute_result"
    }
   ],
   "source": [
    "S_ABC_gates=ABC_decomposition(S,1)\n",
    "S_ABC_quantum_circuit = decomposed_gates_to_circuit(S_ABC_gates, num_of_qubits)\n",
    "S_ABC_quantum_circuit.png"
   ]
  },
  {
   "cell_type": "code",
   "execution_count": 26,
   "id": "6f591e68",
   "metadata": {},
   "outputs": [
    {
     "data": {
      "text/latex": [
       "Quantum object: dims = [[2], [2]], shape = (2, 2), type = oper, isherm = False\\begin{equation*}\\left(\\begin{array}{*{11}c}1.0j & 0.0\\\\0.0 & 1.0\\\\\\end{array}\\right)\\end{equation*}"
      ],
      "text/plain": [
       "Quantum object: dims = [[2], [2]], shape = (2, 2), type = oper, isherm = False\n",
       "Qobj data =\n",
       "[[0.+1.j 0.+0.j]\n",
       " [0.+0.j 1.+0.j]]"
      ]
     },
     "execution_count": 26,
     "metadata": {},
     "output_type": "execute_result"
    }
   ],
   "source": [
    "# Check the output\n",
    "S_ABC_output = matrix_of_decomposed_gates(S_ABC_quantum_circuit)\n",
    "S_ABC_output"
   ]
  },
  {
   "cell_type": "markdown",
   "id": "eae65fe9",
   "metadata": {},
   "source": [
    "#### Square Root of S $\\left( \\textrm{T} \\right)$\n",
    "\n",
    "\\begin{equation}\n",
    "\\textrm{S} =\n",
    "\\begin{bmatrix}\n",
    "    1      & 0 \\\\\n",
    "    0       & e^{\\frac{i \\pi}{4}}  \\\\\n",
    "\\end{bmatrix}\n",
    "\\end{equation}\n"
   ]
  },
  {
   "cell_type": "code",
   "execution_count": 27,
   "id": "1938815e",
   "metadata": {},
   "outputs": [
    {
     "data": {
      "image/png": "[encoded data removed]",
      "text/plain": [
       "<IPython.core.display.Image object>"
      ]
     },
     "execution_count": 27,
     "metadata": {},
     "output_type": "execute_result"
    }
   ],
   "source": [
    "T_ABC_gates=ABC_decomposition(T,1)\n",
    "T_ABC_quantum_circuit = decomposed_gates_to_circuit(T_ABC_gates, num_of_qubits)\n",
    "T_ABC_quantum_circuit.png"
   ]
  },
  {
   "cell_type": "code",
   "execution_count": 28,
   "id": "be3d4abe",
   "metadata": {},
   "outputs": [
    {
     "data": {
      "text/latex": [
       "Quantum object: dims = [[2], [2]], shape = (2, 2), type = oper, isherm = False\\begin{equation*}\\left(\\begin{array}{*{11}c}(-0.707+0.707j) & 0.0\\\\0.0 & -1.000j\\\\\\end{array}\\right)\\end{equation*}"
      ],
      "text/plain": [
       "Quantum object: dims = [[2], [2]], shape = (2, 2), type = oper, isherm = False\n",
       "Qobj data =\n",
       "[[-0.70710678+0.70710678j  0.        +0.j        ]\n",
       " [ 0.        +0.j          0.        -1.j        ]]"
      ]
     },
     "execution_count": 28,
     "metadata": {},
     "output_type": "execute_result"
    }
   ],
   "source": [
    "# Check the output\n",
    "T_ABC_output = matrix_of_decomposed_gates(T_ABC_quantum_circuit)\n",
    "T_ABC_output"
   ]
  },
  {
   "cell_type": "markdown",
   "id": "7fd0d9a3",
   "metadata": {},
   "source": [
    "#### Square Root of NOT gate $\\left( \\textrm{SQRTNOT} \\right)$\n",
    "\n",
    "\\begin{equation}\n",
    "\\textrm{SQRTNOT} =\n",
    "\\begin{bmatrix}\n",
    "    \\frac{1}{\\sqrt{2}}      & \\frac{-i}{\\sqrt{2}} \\\\\n",
    "    \\frac{-i}{\\sqrt{2}}       & \\frac{1}{\\sqrt{2}}  \\\\\n",
    "\\end{bmatrix}\n",
    "\\end{equation}"
   ]
  },
  {
   "cell_type": "code",
   "execution_count": 29,
   "id": "dc882187",
   "metadata": {},
   "outputs": [
    {
     "data": {
      "image/png": "[encoded data removed]",
      "text/plain": [
       "<IPython.core.display.Image object>"
      ]
     },
     "execution_count": 29,
     "metadata": {},
     "output_type": "execute_result"
    }
   ],
   "source": [
    "SQRTNOT_ABC_gates=ABC_decomposition(SQRTNOT,1)\n",
    "SQRTNOT_ABC_quantum_circuit = decomposed_gates_to_circuit(SQRTNOT_ABC_gates, num_of_qubits)\n",
    "SQRTNOT_ABC_quantum_circuit.png"
   ]
  },
  {
   "cell_type": "code",
   "execution_count": 30,
   "id": "ff236791",
   "metadata": {},
   "outputs": [
    {
     "data": {
      "text/latex": [
       "Quantum object: dims = [[2], [2]], shape = (2, 2), type = oper, isherm = False\\begin{equation*}\\left(\\begin{array}{*{11}c}-0.707 & 0.707j\\\\0.707j & -0.707\\\\\\end{array}\\right)\\end{equation*}"
      ],
      "text/plain": [
       "Quantum object: dims = [[2], [2]], shape = (2, 2), type = oper, isherm = False\n",
       "Qobj data =\n",
       "[[-0.70710678+0.j          0.        +0.70710678j]\n",
       " [ 0.        +0.70710678j -0.70710678+0.j        ]]"
      ]
     },
     "execution_count": 30,
     "metadata": {},
     "output_type": "execute_result"
    }
   ],
   "source": [
    "# Check the output\n",
    "SQRTNOT_ABC_output = matrix_of_decomposed_gates(SQRTNOT_ABC_quantum_circuit)\n",
    "SQRTNOT_ABC_output"
   ]
  }
 ],
 "metadata": {
  "kernelspec": {
   "display_name": "Python 3",
   "language": "python",
   "name": "python3"
  },
  "language_info": {
   "codemirror_mode": {
    "name": "ipython",
    "version": 3
   },
   "file_extension": ".py",
   "mimetype": "text/x-python",
   "name": "python",
   "nbconvert_exporter": "python",
   "pygments_lexer": "ipython3",
   "version": "3.8.5"
  }
 },
 "nbformat": 4,
 "nbformat_minor": 5
}
